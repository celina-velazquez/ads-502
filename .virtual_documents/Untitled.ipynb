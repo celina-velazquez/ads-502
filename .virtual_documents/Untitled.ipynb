


import numpy as np

import pandas as pd

import matplotlib.pyplot as plt


data =pd.read_csv("breast-cancer.csv")


data.head()


data.shape


data.info()





data.isnull().sum()





data.describe()


# Malignant or Benign
data['diagnosis'].value_counts()



